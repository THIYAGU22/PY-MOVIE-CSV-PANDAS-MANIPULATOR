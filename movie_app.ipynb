{
 "cells": [
  {
   "cell_type": "markdown",
   "metadata": {},
   "source": [
    "\n",
    "1. Create a movie booking application-  List movie shows and available tickets\n",
    "-  Book movie tickets on a specified date and show\n",
    "-  List bookings\n",
    "-  Cancel booked movie tickets before the show time\n",
    "- Add new movies"
   ]
  },
  {
   "cell_type": "code",
   "execution_count": 1,
   "metadata": {},
   "outputs": [],
   "source": [
    "import csv"
   ]
  },
  {
   "cell_type": "code",
   "execution_count": 2,
   "metadata": {},
   "outputs": [],
   "source": [
    "obj_heap = {}"
   ]
  },
  {
   "cell_type": "code",
   "execution_count": 3,
   "metadata": {},
   "outputs": [],
   "source": [
    "class movie_architecture:\n",
    "    \n",
    "    def __init__(self,year,genre,avail_tickets,movie_name):\n",
    "        self.year = year\n",
    "        self.movie_name = movie_name\n",
    "        self.genre = genre\n",
    "        self.avail_tickets = avail_tickets\n",
    "        \n",
    "    @classmethod\n",
    "    def read_input(cls,movie_name):\n",
    "        return cls(input('Enter the movie year: '),\n",
    "                   input('Enter the Genre: '),\n",
    "                   input('Enter the avail_tickets: '),\n",
    "                   movie_name)\n",
    "    "
   ]
  },
  {
   "cell_type": "markdown",
   "metadata": {},
   "source": [
    "## Create a movie booking application- List movie shows and available tickets"
   ]
  },
  {
   "cell_type": "code",
   "execution_count": 4,
   "metadata": {},
   "outputs": [],
   "source": [
    "def dynamic_object_adding_movies():\n",
    "    print(\"Print Movie name @ to exit:\")\n",
    "    movie_name = ''\n",
    "    while True:\n",
    "        movie_name = input('Enter the movie name')\n",
    "        if(movie_name!='@'):\n",
    "            obj_heap[movie_name] = movie_architecture.read_input(movie_name)\n",
    "        else:\n",
    "            print('Movie Details succesfully added ')\n",
    "            break"
   ]
  },
  {
   "cell_type": "code",
   "execution_count": 5,
   "metadata": {},
   "outputs": [
    {
     "name": "stdout",
     "output_type": "stream",
     "text": [
      "Print Movie name @ to exit:\n",
      "Enter the movie namenanban\n",
      "Enter the movie year: 2015\n",
      "Enter the Genre: drama\n",
      "Enter the avail_tickets: 50\n",
      "Enter the movie namekkk\n",
      "Enter the movie year: 2020\n",
      "Enter the Genre: drama\n",
      "Enter the avail_tickets: 45\n",
      "Enter the movie name@\n",
      "Movie Details succesfully added \n"
     ]
    }
   ],
   "source": [
    "dynamic_object_adding_movies()"
   ]
  },
  {
   "cell_type": "code",
   "execution_count": 6,
   "metadata": {},
   "outputs": [],
   "source": [
    "#get = obj_heap['KKK']\n",
    "#print(get.movie_name)"
   ]
  },
  {
   "cell_type": "code",
   "execution_count": 7,
   "metadata": {},
   "outputs": [
    {
     "data": {
      "text/plain": [
       "{'kkk': <__main__.movie_architecture at 0x7f822006bb00>,\n",
       " 'nanban': <__main__.movie_architecture at 0x7f8220152a20>}"
      ]
     },
     "execution_count": 7,
     "metadata": {},
     "output_type": "execute_result"
    }
   ],
   "source": [
    "obj_heap"
   ]
  },
  {
   "cell_type": "code",
   "execution_count": 8,
   "metadata": {},
   "outputs": [
    {
     "name": "stdout",
     "output_type": "stream",
     "text": [
      "nanban\n",
      "2015\n"
     ]
    }
   ],
   "source": [
    "print(obj_heap['nanban'].movie_name)\n",
    "print(obj_heap['nanban'].year)"
   ]
  },
  {
   "cell_type": "code",
   "execution_count": 9,
   "metadata": {},
   "outputs": [
    {
     "name": "stdout",
     "output_type": "stream",
     "text": [
      "Help on class movie_architecture in module __main__:\n",
      "\n",
      "class movie_architecture(builtins.object)\n",
      " |  Methods defined here:\n",
      " |  \n",
      " |  __init__(self, year, genre, avail_tickets, movie_name)\n",
      " |      Initialize self.  See help(type(self)) for accurate signature.\n",
      " |  \n",
      " |  ----------------------------------------------------------------------\n",
      " |  Class methods defined here:\n",
      " |  \n",
      " |  read_input(movie_name) from builtins.type\n",
      " |  \n",
      " |  ----------------------------------------------------------------------\n",
      " |  Data descriptors defined here:\n",
      " |  \n",
      " |  __dict__\n",
      " |      dictionary for instance variables (if defined)\n",
      " |  \n",
      " |  __weakref__\n",
      " |      list of weak references to the object (if defined)\n",
      "\n"
     ]
    }
   ],
   "source": [
    "help(movie_architecture)"
   ]
  },
  {
   "cell_type": "code",
   "execution_count": 10,
   "metadata": {},
   "outputs": [
    {
     "data": {
      "text/plain": [
       "'/home/hadoop-thiyagu/coda/movie_application_py'"
      ]
     },
     "execution_count": 10,
     "metadata": {},
     "output_type": "execute_result"
    }
   ],
   "source": [
    "pwd"
   ]
  },
  {
   "cell_type": "markdown",
   "metadata": {},
   "source": [
    "### USING CSV AND PANDAS FOR DATA MANIPULATION"
   ]
  },
  {
   "cell_type": "code",
   "execution_count": 11,
   "metadata": {},
   "outputs": [],
   "source": [
    "new_file = open('movie_details_backend.csv','w')"
   ]
  },
  {
   "cell_type": "code",
   "execution_count": 12,
   "metadata": {},
   "outputs": [],
   "source": [
    "writer = csv.DictWriter(\n",
    "    new_file, fieldnames=[\"MOVIE\", \"YEAR\",\"GENRE\",\"AVAILABLE_TICKETS\"])\n",
    "writer.writeheader()\n"
   ]
  },
  {
   "cell_type": "code",
   "execution_count": 13,
   "metadata": {},
   "outputs": [],
   "source": [
    "\n",
    "csv_writer = csv.writer(new_file)\n",
    "\n",
    "for k,v in obj_heap.items():\n",
    "    #if(k!='@'):\n",
    "    csv_writer.writerow([v.movie_name,v.year,v.genre,v.avail_tickets])\n",
    "new_file.close()"
   ]
  },
  {
   "cell_type": "code",
   "execution_count": 14,
   "metadata": {},
   "outputs": [],
   "source": [
    "import pandas as pd\n",
    "admin_df = pd.read_csv ('./movie_details_backend.csv')"
   ]
  },
  {
   "cell_type": "code",
   "execution_count": 15,
   "metadata": {},
   "outputs": [],
   "source": [
    "admin_df = admin_df.dropna()"
   ]
  },
  {
   "cell_type": "code",
   "execution_count": 16,
   "metadata": {},
   "outputs": [
    {
     "name": "stdout",
     "output_type": "stream",
     "text": [
      "    MOVIE  YEAR  GENRE  AVAILABLE_TICKETS\n",
      "0  nanban  2015  drama                 50\n",
      "1     kkk  2020  drama                 45\n"
     ]
    }
   ],
   "source": [
    "print(admin_df)"
   ]
  },
  {
   "cell_type": "code",
   "execution_count": 17,
   "metadata": {},
   "outputs": [
    {
     "data": {
      "text/plain": [
       "0     True\n",
       "1    False\n",
       "Name: MOVIE, dtype: bool"
      ]
     },
     "execution_count": 17,
     "metadata": {},
     "output_type": "execute_result"
    }
   ],
   "source": [
    "admin_df['MOVIE']=='nanban'"
   ]
  },
  {
   "cell_type": "code",
   "execution_count": 18,
   "metadata": {},
   "outputs": [],
   "source": [
    "#df['AVAILABLE_TICKETS'] = df.loc[df['MOVIE'] == 'nanban']['AVAILABLE_TICKETS']-1"
   ]
  },
  {
   "cell_type": "code",
   "execution_count": 19,
   "metadata": {},
   "outputs": [],
   "source": [
    "#dataframe['AVAILABLE_TICKETS']-=1"
   ]
  },
  {
   "cell_type": "code",
   "execution_count": 20,
   "metadata": {},
   "outputs": [],
   "source": [
    "def update_tickets_from_admin_db(request):\n",
    "    is_booked = False\n",
    "    tickets_booked = request\n",
    "    for i,row in admin_df.iterrows():\n",
    "        #print(row['MOVIE'])\n",
    "        if(row['MOVIE']=='nanban' and row['AVAILABLE_TICKETS']-tickets_booked >= 0): \n",
    "            admin_df.at[i,'AVAILABLE_TICKETS']= row['AVAILABLE_TICKETS']-tickets_booked\n",
    "            is_booked = True\n",
    "            return is_booked\n",
    "        elif(row['MOVIE']=='nanban'and row['AVAILABLE_TICKETS']-tickets_booked < 0):\n",
    "            print(\"SORRY TICKETS NOT AVAILABLE\")\n",
    "            print(\"BETTER YOU BOOK : {}\".format(row['AVAILABLE_TICKETS']))\n",
    "            \n",
    "    return is_booked"
   ]
  },
  {
   "cell_type": "code",
   "execution_count": 21,
   "metadata": {},
   "outputs": [
    {
     "data": {
      "text/html": [
       "<div>\n",
       "<style scoped>\n",
       "    .dataframe tbody tr th:only-of-type {\n",
       "        vertical-align: middle;\n",
       "    }\n",
       "\n",
       "    .dataframe tbody tr th {\n",
       "        vertical-align: top;\n",
       "    }\n",
       "\n",
       "    .dataframe thead th {\n",
       "        text-align: right;\n",
       "    }\n",
       "</style>\n",
       "<table border=\"1\" class=\"dataframe\">\n",
       "  <thead>\n",
       "    <tr style=\"text-align: right;\">\n",
       "      <th></th>\n",
       "      <th>MOVIE</th>\n",
       "      <th>YEAR</th>\n",
       "      <th>GENRE</th>\n",
       "      <th>AVAILABLE_TICKETS</th>\n",
       "    </tr>\n",
       "  </thead>\n",
       "  <tbody>\n",
       "    <tr>\n",
       "      <th>0</th>\n",
       "      <td>nanban</td>\n",
       "      <td>2015</td>\n",
       "      <td>drama</td>\n",
       "      <td>50</td>\n",
       "    </tr>\n",
       "    <tr>\n",
       "      <th>1</th>\n",
       "      <td>kkk</td>\n",
       "      <td>2020</td>\n",
       "      <td>drama</td>\n",
       "      <td>45</td>\n",
       "    </tr>\n",
       "  </tbody>\n",
       "</table>\n",
       "</div>"
      ],
      "text/plain": [
       "    MOVIE  YEAR  GENRE  AVAILABLE_TICKETS\n",
       "0  nanban  2015  drama                 50\n",
       "1     kkk  2020  drama                 45"
      ]
     },
     "execution_count": 21,
     "metadata": {},
     "output_type": "execute_result"
    }
   ],
   "source": [
    "admin_df"
   ]
  },
  {
   "cell_type": "code",
   "execution_count": 22,
   "metadata": {},
   "outputs": [],
   "source": [
    "import uuid\n",
    "def unique_number():\n",
    "    uuid_auto_generated = str(uuid.uuid4().fields[-1])[:5]\n",
    "    return uuid_auto_generated"
   ]
  },
  {
   "cell_type": "code",
   "execution_count": 23,
   "metadata": {},
   "outputs": [
    {
     "data": {
      "text/plain": [
       "0    nanban\n",
       "1       kkk\n",
       "Name: MOVIE, dtype: object"
      ]
     },
     "execution_count": 23,
     "metadata": {},
     "output_type": "execute_result"
    }
   ],
   "source": [
    "admin_df['MOVIE']"
   ]
  },
  {
   "cell_type": "code",
   "execution_count": 24,
   "metadata": {},
   "outputs": [],
   "source": [
    "#get_ref = unique_number()\n",
    "#print(get_ref)"
   ]
  },
  {
   "cell_type": "code",
   "execution_count": 25,
   "metadata": {
    "scrolled": true
   },
   "outputs": [],
   "source": [
    "from datetime import date,datetime\n",
    "\n",
    "def get_booking_id():\n",
    "    \n",
    "    today = date.today()\n",
    "    # dd/mm/YY\n",
    "    current_day = today.strftime(\"%d-%m-%Y\")\n",
    "    now = datetime.now()\n",
    "    #print(\"now =\", now)\n",
    "    timestamp = now.strftime(\"%H-%M-%S\")\n",
    "    #print(\"Current_day\",current_day)\n",
    "    #print(\"Timestamp\", timestamp)\n",
    "\n",
    "    tuple_day = (timestamp,current_day,unique_number())\n",
    "    #print(tuple_day)\n",
    "    stored = \"*\".join(tuple_day)\n",
    "    \n",
    "    return stored"
   ]
  },
  {
   "cell_type": "code",
   "execution_count": 26,
   "metadata": {},
   "outputs": [
    {
     "data": {
      "text/plain": [
       "'11-36-04*16-09-2020*10214'"
      ]
     },
     "execution_count": 26,
     "metadata": {},
     "output_type": "execute_result"
    }
   ],
   "source": [
    "get_booking_id()"
   ]
  },
  {
   "cell_type": "code",
   "execution_count": 27,
   "metadata": {},
   "outputs": [],
   "source": [
    "from datetime import time\n",
    "class user_book:\n",
    "    def __init__(self,book_tickets,book_date,show_time,movie_name,uniq_ref_no):\n",
    "        self.uniq_ref_no = uniq_ref_no\n",
    "        self.movie_name = movie_name\n",
    "        self.book_date = book_date\n",
    "        self.show_time = show_time\n",
    "        self.book_tickets = book_tickets\n",
    "        \n",
    "    @classmethod\n",
    "    def read_input(cls,movie_name,uniq_ref_no):\n",
    "        \n",
    "        tickets = int(input('Book Tickets: '))\n",
    "        date_entry = input('Enter a date in YYYY-MM-DD format')\n",
    "        year, month, day = map(int, date_entry.split('-')) \n",
    "        date1 = date(year, month, day)\n",
    "        \n",
    "        show_entry = input('Enter a date in HH-MM format')\n",
    "        hr,mnt =  map(int, show_entry.split('-')) \n",
    "        converted_show_time = time(hour=hr,minute=mnt)\n",
    "        \n",
    "        print(type(converted_show_time))\n",
    "        return cls(\n",
    "                   tickets,\n",
    "                   date1,\n",
    "                   converted_show_time,\n",
    "                   movie_name,\n",
    "                   uniq_ref_no\n",
    "                  )\n",
    "    "
   ]
  },
  {
   "cell_type": "code",
   "execution_count": 28,
   "metadata": {},
   "outputs": [],
   "source": [
    "user_obj_heap = {}"
   ]
  },
  {
   "cell_type": "markdown",
   "metadata": {},
   "source": [
    "### Book movie tickets on a specified date and show"
   ]
  },
  {
   "cell_type": "code",
   "execution_count": 29,
   "metadata": {},
   "outputs": [],
   "source": [
    "def user_book_tickets():\n",
    "    print(\"Print Movie name @ to exit:\")\n",
    "    movie_name = ''\n",
    "    while True:\n",
    "        movie_name = input('Enter the movie name')\n",
    "        if(movie_name!='@'):\n",
    "            uuid = get_booking_id()\n",
    "            user_obj_heap[uuid] = user_book.read_input(movie_name,uuid)\n",
    "            if(update_tickets_from_admin_db(user_obj_heap[uuid].book_tickets)):\n",
    "                print(f\"SUCCESSFULLY BOOKED , PLEASE NOTE DOWN YOUR UNIQUE REF NO {uuid}\")\n",
    "                \n",
    "        else:\n",
    "            print('exited')\n",
    "            break"
   ]
  },
  {
   "cell_type": "code",
   "execution_count": 31,
   "metadata": {
    "scrolled": true
   },
   "outputs": [
    {
     "name": "stdout",
     "output_type": "stream",
     "text": [
      "Print Movie name @ to exit:\n",
      "Enter the movie namenanban\n",
      "Book Tickets: 10\n",
      "Enter a date in YYYY-MM-DD format2020-09-18\n",
      "Enter a date in HH-MM format05-00\n",
      "<class 'datetime.time'>\n",
      "SUCCESSFULLY BOOKED , PLEASE NOTE DOWN YOUR UNIQUE REF NO 11-36-20*16-09-2020*32885\n",
      "Enter the movie name@\n",
      "exited\n"
     ]
    }
   ],
   "source": [
    "user_book_tickets()"
   ]
  },
  {
   "cell_type": "code",
   "execution_count": 32,
   "metadata": {},
   "outputs": [
    {
     "data": {
      "text/plain": [
       "{'11-36-20*16-09-2020*32885': <__main__.user_book at 0x7f81f3969860>}"
      ]
     },
     "execution_count": 32,
     "metadata": {},
     "output_type": "execute_result"
    }
   ],
   "source": [
    "user_obj_heap"
   ]
  },
  {
   "cell_type": "markdown",
   "metadata": {},
   "source": [
    "### USING SEPARATE CSV AND PANDAS DATAFRAME FOR USER BOOKING BACKEND"
   ]
  },
  {
   "cell_type": "code",
   "execution_count": 33,
   "metadata": {},
   "outputs": [],
   "source": [
    "booking_file = open('user_booking_details.csv','w')"
   ]
  },
  {
   "cell_type": "code",
   "execution_count": 34,
   "metadata": {},
   "outputs": [],
   "source": [
    "writer = csv.DictWriter(\n",
    "    booking_file, fieldnames=[\"UNIQ_REF_NO\", \"MOVIE_NAME\",\"BOOKED_TICKETS\",\"BOOKED_DATE\",\"SHOW_TIME\"])\n",
    "writer.writeheader()\n",
    "\n",
    "csv_writer = csv.writer(booking_file)\n",
    "\n",
    "for k,v in user_obj_heap.items():\n",
    "    #if(k!='@'):\n",
    "    csv_writer.writerow([v.uniq_ref_no,v.movie_name,v.book_tickets,v.book_date,v.show_time])\n",
    "booking_file.close()"
   ]
  },
  {
   "cell_type": "code",
   "execution_count": 35,
   "metadata": {},
   "outputs": [],
   "source": [
    "df = pd.read_csv ('./user_booking_details.csv')\n"
   ]
  },
  {
   "cell_type": "code",
   "execution_count": 36,
   "metadata": {},
   "outputs": [
    {
     "data": {
      "text/html": [
       "<div>\n",
       "<style scoped>\n",
       "    .dataframe tbody tr th:only-of-type {\n",
       "        vertical-align: middle;\n",
       "    }\n",
       "\n",
       "    .dataframe tbody tr th {\n",
       "        vertical-align: top;\n",
       "    }\n",
       "\n",
       "    .dataframe thead th {\n",
       "        text-align: right;\n",
       "    }\n",
       "</style>\n",
       "<table border=\"1\" class=\"dataframe\">\n",
       "  <thead>\n",
       "    <tr style=\"text-align: right;\">\n",
       "      <th></th>\n",
       "      <th>UNIQ_REF_NO</th>\n",
       "      <th>MOVIE_NAME</th>\n",
       "      <th>BOOKED_TICKETS</th>\n",
       "      <th>BOOKED_DATE</th>\n",
       "      <th>SHOW_TIME</th>\n",
       "    </tr>\n",
       "  </thead>\n",
       "  <tbody>\n",
       "    <tr>\n",
       "      <th>0</th>\n",
       "      <td>11-36-20*16-09-2020*32885</td>\n",
       "      <td>nanban</td>\n",
       "      <td>10</td>\n",
       "      <td>2020-09-18</td>\n",
       "      <td>05:00:00</td>\n",
       "    </tr>\n",
       "  </tbody>\n",
       "</table>\n",
       "</div>"
      ],
      "text/plain": [
       "                 UNIQ_REF_NO MOVIE_NAME  BOOKED_TICKETS BOOKED_DATE SHOW_TIME\n",
       "0  11-36-20*16-09-2020*32885     nanban              10  2020-09-18  05:00:00"
      ]
     },
     "execution_count": 36,
     "metadata": {},
     "output_type": "execute_result"
    }
   ],
   "source": [
    "#BOOKING DATAFRAME\n",
    "df"
   ]
  },
  {
   "cell_type": "code",
   "execution_count": 37,
   "metadata": {},
   "outputs": [
    {
     "data": {
      "text/html": [
       "<div>\n",
       "<style scoped>\n",
       "    .dataframe tbody tr th:only-of-type {\n",
       "        vertical-align: middle;\n",
       "    }\n",
       "\n",
       "    .dataframe tbody tr th {\n",
       "        vertical-align: top;\n",
       "    }\n",
       "\n",
       "    .dataframe thead th {\n",
       "        text-align: right;\n",
       "    }\n",
       "</style>\n",
       "<table border=\"1\" class=\"dataframe\">\n",
       "  <thead>\n",
       "    <tr style=\"text-align: right;\">\n",
       "      <th></th>\n",
       "      <th>MOVIE</th>\n",
       "      <th>YEAR</th>\n",
       "      <th>GENRE</th>\n",
       "      <th>AVAILABLE_TICKETS</th>\n",
       "    </tr>\n",
       "  </thead>\n",
       "  <tbody>\n",
       "    <tr>\n",
       "      <th>0</th>\n",
       "      <td>nanban</td>\n",
       "      <td>2015</td>\n",
       "      <td>drama</td>\n",
       "      <td>40</td>\n",
       "    </tr>\n",
       "    <tr>\n",
       "      <th>1</th>\n",
       "      <td>kkk</td>\n",
       "      <td>2020</td>\n",
       "      <td>drama</td>\n",
       "      <td>45</td>\n",
       "    </tr>\n",
       "  </tbody>\n",
       "</table>\n",
       "</div>"
      ],
      "text/plain": [
       "    MOVIE  YEAR  GENRE  AVAILABLE_TICKETS\n",
       "0  nanban  2015  drama                 40\n",
       "1     kkk  2020  drama                 45"
      ]
     },
     "execution_count": 37,
     "metadata": {},
     "output_type": "execute_result"
    }
   ],
   "source": [
    "#updated as well as in ADMIN DATAFRAME\n",
    "\n",
    "admin_df"
   ]
  },
  {
   "cell_type": "markdown",
   "metadata": {},
   "source": [
    "### CANCELLING TICKETS BEFORE THE SHOW "
   ]
  },
  {
   "cell_type": "code",
   "execution_count": 38,
   "metadata": {},
   "outputs": [],
   "source": [
    "def update_admin_df(movie_name,tickets):\n",
    "    for i,row in admin_df.iterrows():\n",
    "        if(row['MOVIE']==movie_name):\n",
    "            admin_df.at[i,'AVAILABLE_TICKETS'] = row['AVAILABLE_TICKETS']+tickets"
   ]
  },
  {
   "cell_type": "code",
   "execution_count": 39,
   "metadata": {},
   "outputs": [],
   "source": [
    "def cancel_tickets(uniq_no):\n",
    "    for i,row in df.iterrows():\n",
    "        if(row['UNIQ_REF_NO']==uniq_no): \n",
    "            #print(type(row['BOOKED_TICKETS']))\n",
    "            tickets = (row['BOOKED_TICKETS'])\n",
    "            movie_name = row['MOVIE_NAME']\n",
    "            \n",
    "            ##logic for cancelling before the show \n",
    "            date2 = row['BOOKED_DATE'] \n",
    "            \n",
    "            today = date.today()\n",
    "            date1 = today.strftime(\"%Y-%m-%d\")\n",
    "            \n",
    "            date2_yr,date2_month,date2_day = map(int,date2.split('-'))\n",
    "            date1_yr,date1_month,date1_day = map(int,date1.split('-'))\n",
    "            \n",
    "            difference = (\n",
    "                          date(date2_yr,date2_month,date2_day) -\n",
    "                          date(date1_yr,date1_month,date1_day)\n",
    "                         )\n",
    "                \n",
    "            #print(difference.days)\n",
    "            if(difference.days >= 0):\n",
    "                df.drop(i,inplace=True)\n",
    "                update_admin_df(movie_name,tickets)\n",
    "                break\n",
    "                "
   ]
  },
  {
   "cell_type": "code",
   "execution_count": 40,
   "metadata": {},
   "outputs": [],
   "source": [
    "cancel_tickets('11-36-20*16-09-2020*32885')"
   ]
  },
  {
   "cell_type": "markdown",
   "metadata": {},
   "source": [
    "#### LISTING OUT THE USER DATAFRAME AFTER CRUD OPERATIONS"
   ]
  },
  {
   "cell_type": "code",
   "execution_count": 41,
   "metadata": {},
   "outputs": [
    {
     "data": {
      "text/html": [
       "<div>\n",
       "<style scoped>\n",
       "    .dataframe tbody tr th:only-of-type {\n",
       "        vertical-align: middle;\n",
       "    }\n",
       "\n",
       "    .dataframe tbody tr th {\n",
       "        vertical-align: top;\n",
       "    }\n",
       "\n",
       "    .dataframe thead th {\n",
       "        text-align: right;\n",
       "    }\n",
       "</style>\n",
       "<table border=\"1\" class=\"dataframe\">\n",
       "  <thead>\n",
       "    <tr style=\"text-align: right;\">\n",
       "      <th></th>\n",
       "      <th>UNIQ_REF_NO</th>\n",
       "      <th>MOVIE_NAME</th>\n",
       "      <th>BOOKED_TICKETS</th>\n",
       "      <th>BOOKED_DATE</th>\n",
       "      <th>SHOW_TIME</th>\n",
       "    </tr>\n",
       "  </thead>\n",
       "  <tbody>\n",
       "  </tbody>\n",
       "</table>\n",
       "</div>"
      ],
      "text/plain": [
       "Empty DataFrame\n",
       "Columns: [UNIQ_REF_NO, MOVIE_NAME, BOOKED_TICKETS, BOOKED_DATE, SHOW_TIME]\n",
       "Index: []"
      ]
     },
     "execution_count": 41,
     "metadata": {},
     "output_type": "execute_result"
    }
   ],
   "source": [
    "#deletion updated in user dataframe\n",
    "df"
   ]
  },
  {
   "cell_type": "markdown",
   "metadata": {},
   "source": [
    "#### LISTING OUT THE ADMIN DATAFRAME AFTER CRUD OPERATIONS"
   ]
  },
  {
   "cell_type": "code",
   "execution_count": 42,
   "metadata": {},
   "outputs": [
    {
     "data": {
      "text/html": [
       "<div>\n",
       "<style scoped>\n",
       "    .dataframe tbody tr th:only-of-type {\n",
       "        vertical-align: middle;\n",
       "    }\n",
       "\n",
       "    .dataframe tbody tr th {\n",
       "        vertical-align: top;\n",
       "    }\n",
       "\n",
       "    .dataframe thead th {\n",
       "        text-align: right;\n",
       "    }\n",
       "</style>\n",
       "<table border=\"1\" class=\"dataframe\">\n",
       "  <thead>\n",
       "    <tr style=\"text-align: right;\">\n",
       "      <th></th>\n",
       "      <th>MOVIE</th>\n",
       "      <th>YEAR</th>\n",
       "      <th>GENRE</th>\n",
       "      <th>AVAILABLE_TICKETS</th>\n",
       "    </tr>\n",
       "  </thead>\n",
       "  <tbody>\n",
       "    <tr>\n",
       "      <th>0</th>\n",
       "      <td>nanban</td>\n",
       "      <td>2015</td>\n",
       "      <td>drama</td>\n",
       "      <td>50</td>\n",
       "    </tr>\n",
       "    <tr>\n",
       "      <th>1</th>\n",
       "      <td>kkk</td>\n",
       "      <td>2020</td>\n",
       "      <td>drama</td>\n",
       "      <td>45</td>\n",
       "    </tr>\n",
       "  </tbody>\n",
       "</table>\n",
       "</div>"
      ],
      "text/plain": [
       "    MOVIE  YEAR  GENRE  AVAILABLE_TICKETS\n",
       "0  nanban  2015  drama                 50\n",
       "1     kkk  2020  drama                 45"
      ]
     },
     "execution_count": 42,
     "metadata": {},
     "output_type": "execute_result"
    }
   ],
   "source": [
    "#cancelled tickets updated in admin df for reusability\n",
    "admin_df"
   ]
  },
  {
   "cell_type": "code",
   "execution_count": null,
   "metadata": {},
   "outputs": [],
   "source": []
  }
 ],
 "metadata": {
  "kernelspec": {
   "display_name": "Python 3",
   "language": "python",
   "name": "python3"
  },
  "language_info": {
   "codemirror_mode": {
    "name": "ipython",
    "version": 3
   },
   "file_extension": ".py",
   "mimetype": "text/x-python",
   "name": "python",
   "nbconvert_exporter": "python",
   "pygments_lexer": "ipython3",
   "version": "3.6.9"
  }
 },
 "nbformat": 4,
 "nbformat_minor": 2
}
